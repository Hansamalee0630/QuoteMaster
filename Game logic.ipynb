{
 "cells": [
  {
   "cell_type": "code",
   "execution_count": 2,
   "metadata": {},
   "outputs": [
    {
     "name": "stdout",
     "output_type": "stream",
     "text": [
      "Requirement already satisfied: scikit-learn in c:\\users\\pc\\appdata\\local\\programs\\python\\python312\\lib\\site-packages (1.5.1)\n",
      "Requirement already satisfied: numpy>=1.19.5 in c:\\users\\pc\\appdata\\local\\programs\\python\\python312\\lib\\site-packages (from scikit-learn) (1.26.4)\n",
      "Requirement already satisfied: scipy>=1.6.0 in c:\\users\\pc\\appdata\\local\\programs\\python\\python312\\lib\\site-packages (from scikit-learn) (1.14.1)\n",
      "Requirement already satisfied: joblib>=1.2.0 in c:\\users\\pc\\appdata\\local\\programs\\python\\python312\\lib\\site-packages (from scikit-learn) (1.4.2)\n",
      "Requirement already satisfied: threadpoolctl>=3.1.0 in c:\\users\\pc\\appdata\\local\\programs\\python\\python312\\lib\\site-packages (from scikit-learn) (3.5.0)\n",
      "Note: you may need to restart the kernel to use updated packages.\n"
     ]
    }
   ],
   "source": [
    "%pip install scikit-learn"
   ]
  },
  {
   "cell_type": "code",
   "execution_count": 3,
   "metadata": {},
   "outputs": [],
   "source": [
    "# Import the libraries we need\n",
    "import random\n",
    "import numpy as np\n",
    "import time\n",
    "from sklearn.feature_extraction.text import TfidfVectorizer\n",
    "from sklearn.metrics.pairwise import cosine_similarity"
   ]
  },
  {
   "cell_type": "code",
   "execution_count": 4,
   "metadata": {},
   "outputs": [],
   "source": [
    "quotes = [\n",
    "        \"Dream big and work hard\",\n",
    "        \"Love deeply and worry less\",\n",
    "        \"Stay positive and stay focused\"\n",
    "    ]"
   ]
  },
  {
   "cell_type": "markdown",
   "metadata": {},
   "source": []
  },
  {
   "cell_type": "code",
   "execution_count": 8,
   "metadata": {},
   "outputs": [],
   "source": [
    "def quote_master_game():\n",
    "    time_limit = 15  # Set initial time limit in seconds\n",
    "    remaining_time = time_limit\n",
    "    tries = 0\n",
    "\n",
    "    while remaining_time > 0:  # Loop to allow multiple rounds of the game\n",
    "\n",
    "        # If this the first round, print the instructions\n",
    "        if tries == 0:\n",
    "            # Randomly select a quote\n",
    "            computer_quote = random.choice(quotes)\n",
    "            print(\"\"\"\n",
    "                    You have only 15 seconds... ⌛\\n\n",
    "                    No time    =>  You loose... ☠️\\n\n",
    "                    No Similar =>  You loose... ☠️\\n\n",
    "                    Computer's quote has been selected. Your turn...\\n\n",
    "                  \"\"\")\n",
    "        \n",
    "        # Start the timer\n",
    "        start_time = time.time()\n",
    "        \n",
    "        # Get user's quote within the remaining time limit\n",
    "        user_quote = input(f\"\\nEnter your quote (within {remaining_time:.2f} seconds): \")\n",
    "        \n",
    "        tries += 1\n",
    "\n",
    "        # Measure elapsed time\n",
    "        elapsed_time = time.time() - start_time\n",
    "\n",
    "        # Check if the user took too long\n",
    "        if elapsed_time > remaining_time:\n",
    "            print(f\"\\nTime's up! You took {elapsed_time:.2f} seconds. You lose! ☠️\")\n",
    "            print(f\"\\nComputer's quote: {computer_quote}\")\n",
    "            break  # End the game if time exceeded\n",
    "        \n",
    "        # Calculate similarity\n",
    "        vectorizer = TfidfVectorizer()\n",
    "        tfidf_matrix = vectorizer.fit_transform([computer_quote, user_quote])\n",
    "        similarity = cosine_similarity(tfidf_matrix[0:1], tfidf_matrix[1:2])[0][0]\n",
    "\n",
    "        # Determine if user wins\n",
    "        if similarity > 0.5:\n",
    "            print(f\"\\nCongratulations! You win. 😎✨\\nSimilarity score: {similarity:.2f}\")\n",
    "            print(f\"Computer's quote: {computer_quote} 👌\")\n",
    "            break  # End the game on win\n",
    "        else:\n",
    "            print(f\"\\nSorry, not similar enough. 😔\\nSimilarity score: {similarity:.2f}\")\n",
    "\n",
    "            # Update remaining time\n",
    "            remaining_time -= elapsed_time\n",
    "            print(f\"Remaining time: {remaining_time:.2f} seconds\\nKeep working...\")\n",
    "            if remaining_time <= 0:\n",
    "                print(\"\\nNo more time left. You lose! 😭\\nSimilarity score: {similarity:.2f}\")\n",
    "                print(f\"Computer's quote: {computer_quote} \\nYou took more than 15 seconds.\")\n",
    "                break"
   ]
  },
  {
   "cell_type": "code",
   "execution_count": 14,
   "metadata": {},
   "outputs": [
    {
     "name": "stdout",
     "output_type": "stream",
     "text": [
      "\n",
      "                    You have only 15 seconds... ⌛\n",
      "\n",
      "                    No time    =>  You loose... ☠️\n",
      "\n",
      "                    No Similar =>  You loose... ☠️\n",
      "\n",
      "                    Computer's quote has been selected. Your turn...\n",
      "\n",
      "                  \n",
      "\n",
      "Sorry, not similar enough. 😔\n",
      "Similarity score: 0.15\n",
      "Remaining time: 5.80 seconds\n",
      "Keep working...\n",
      "\n",
      "Time's up! You took 6.62 seconds. You lose! ☠️\n",
      "\n",
      "Computer's quote: Love deeply and worry less\n"
     ]
    }
   ],
   "source": [
    "# Run the game\n",
    "quote_master_game()"
   ]
  },
  {
   "cell_type": "code",
   "execution_count": null,
   "metadata": {},
   "outputs": [],
   "source": [
    "# Save the game and get"
   ]
  }
 ],
 "metadata": {
  "kernelspec": {
   "display_name": "Python 3 (ipykernel)",
   "language": "python",
   "name": "python3"
  },
  "language_info": {
   "codemirror_mode": {
    "name": "ipython",
    "version": 3
   },
   "file_extension": ".py",
   "mimetype": "text/x-python",
   "name": "python",
   "nbconvert_exporter": "python",
   "pygments_lexer": "ipython3",
   "version": "3.12.2"
  }
 },
 "nbformat": 4,
 "nbformat_minor": 4
}
